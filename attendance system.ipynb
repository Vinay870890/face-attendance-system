{
 "cells": [
  {
   "cell_type": "code",
   "execution_count": 1,
   "id": "84368a03",
   "metadata": {},
   "outputs": [
    {
     "name": "stdout",
     "output_type": "stream",
     "text": [
      "Defaulting to user installation because normal site-packages is not writeable\n",
      "Requirement already satisfied: face-recognition in c:\\users\\vinay\\appdata\\roaming\\python\\python39\\site-packages (1.3.0)\n",
      "Requirement already satisfied: face-recognition-models>=0.3.0 in c:\\users\\vinay\\appdata\\roaming\\python\\python39\\site-packages (from face-recognition) (0.3.0)\n",
      "Requirement already satisfied: Click>=6.0 in c:\\programdata\\anaconda3\\lib\\site-packages (from face-recognition) (8.0.4)\n",
      "Requirement already satisfied: dlib>=19.7 in c:\\users\\vinay\\appdata\\roaming\\python\\python39\\site-packages (from face-recognition) (19.22.99)\n",
      "Requirement already satisfied: numpy in c:\\users\\vinay\\appdata\\roaming\\python\\python39\\site-packages (from face-recognition) (1.26.4)\n",
      "Requirement already satisfied: Pillow in c:\\programdata\\anaconda3\\lib\\site-packages (from face-recognition) (9.2.0)\n",
      "Requirement already satisfied: colorama in c:\\programdata\\anaconda3\\lib\\site-packages (from Click>=6.0->face-recognition) (0.4.5)\n",
      "Note: you may need to restart the kernel to use updated packages.\n"
     ]
    },
    {
     "name": "stderr",
     "output_type": "stream",
     "text": [
      "\n",
      "[notice] A new release of pip is available: 24.2 -> 25.1.1\n",
      "[notice] To update, run: python.exe -m pip install --upgrade pip\n"
     ]
    }
   ],
   "source": [
    "pip install face-recognition\n"
   ]
  },
  {
   "cell_type": "code",
   "execution_count": 2,
   "id": "bf411480",
   "metadata": {},
   "outputs": [
    {
     "name": "stdout",
     "output_type": "stream",
     "text": [
      "[Info] Marked present: dhoni at 00:19:30\n",
      "[Info] Marked present: tata at 00:20:03\n",
      "[Exit] 'q' key pressed.\n",
      "[Saved] Attendance recorded in '2025-06-17.csv'\n"
     ]
    }
   ],
   "source": [
    "import face_recognition\n",
    "import cv2\n",
    "import numpy as np\n",
    "import csv\n",
    "import os\n",
    "from datetime import datetime\n",
    "import time\n",
    "\n",
    "# -------------------- Configuration --------------------\n",
    "PHOTO_DIR = \"photos\"  # Folder containing known face images\n",
    "AUTO_EXIT_ON_COMPLETION = True  # Set to False to disable auto-exit\n",
    "# -------------------------------------------------------\n",
    "\n",
    "# Initialize webcam\n",
    "video_capture = cv2.VideoCapture(0)\n",
    "time.sleep(2)  # Give time for the camera to warm up\n",
    "\n",
    "# Load known face encodings and names\n",
    "known_face_encodings = []\n",
    "known_face_names = []\n",
    "\n",
    "for filename in os.listdir(PHOTO_DIR):\n",
    "    if filename.endswith(('.jpg', '.png', '.jpeg')):\n",
    "        name = os.path.splitext(filename)[0]  # Remove file extension\n",
    "        image_path = os.path.join(PHOTO_DIR, filename)\n",
    "        image = face_recognition.load_image_file(image_path)\n",
    "        encodings = face_recognition.face_encodings(image)\n",
    "        if encodings:\n",
    "            known_face_encodings.append(encodings[0])\n",
    "            known_face_names.append(name)\n",
    "        else:\n",
    "            print(f\"[Warning] No face found in image: {filename}\")\n",
    "\n",
    "# Track attendance\n",
    "students_remaining = set(known_face_names)\n",
    "attendance_log = []\n",
    "\n",
    "# Create CSV with current date\n",
    "now = datetime.now()\n",
    "current_date = now.strftime(\"%Y-%m-%d\")\n",
    "csv_filename = current_date + '.csv'\n",
    "\n",
    "with open(csv_filename, 'w', newline='') as f:\n",
    "    csv_writer = csv.writer(f)\n",
    "    csv_writer.writerow(['Name', 'Time'])  # CSV header\n",
    "\n",
    "    while True:\n",
    "        ret, frame = video_capture.read()\n",
    "        if not ret:\n",
    "            print(\"[Error] Failed to capture frame from webcam.\")\n",
    "            break\n",
    "\n",
    "        # Resize frame for faster processing\n",
    "        small_frame = cv2.resize(frame, (0, 0), fx=0.25, fy=0.25)\n",
    "        rgb_small_frame = small_frame[:, :, ::-1]\n",
    "\n",
    "        # Detect faces and recognize\n",
    "        face_locations = face_recognition.face_locations(rgb_small_frame)\n",
    "        face_encodings = face_recognition.face_encodings(rgb_small_frame, face_locations)\n",
    "        face_names = []\n",
    "\n",
    "        for face_encoding in face_encodings:\n",
    "            matches = face_recognition.compare_faces(known_face_encodings, face_encoding)\n",
    "            name = \"Unknown\"\n",
    "\n",
    "            face_distances = face_recognition.face_distance(known_face_encodings, face_encoding)\n",
    "            best_match_index = np.argmin(face_distances)\n",
    "\n",
    "            if matches[best_match_index]:\n",
    "                name = known_face_names[best_match_index]\n",
    "\n",
    "            face_names.append(name)\n",
    "\n",
    "            if name != \"Unknown\" and name in students_remaining:\n",
    "                students_remaining.remove(name)\n",
    "                current_time = datetime.now().strftime(\"%H:%M:%S\")\n",
    "                csv_writer.writerow([name, current_time])\n",
    "                f.flush()\n",
    "                print(f\"[Info] Marked present: {name} at {current_time}\")\n",
    "\n",
    "        # Display annotations\n",
    "        for (top, right, bottom, left), name in zip(face_locations, face_names):\n",
    "            # Scale back up face locations\n",
    "            top *= 4\n",
    "            right *= 4\n",
    "            bottom *= 4\n",
    "            left *= 4\n",
    "\n",
    "            # Draw box\n",
    "            color = (0, 255, 0) if name != \"Unknown\" else (0, 0, 255)\n",
    "            cv2.rectangle(frame, (left, top), (right, bottom), color, 2)\n",
    "\n",
    "            # Draw label\n",
    "            cv2.rectangle(frame, (left, bottom - 35), (right, bottom), color, cv2.FILLED)\n",
    "            font = cv2.FONT_HERSHEY_DUPLEX\n",
    "            cv2.putText(frame, name, (left + 6, bottom - 6), font, 1.0, (255, 255, 255), 1)\n",
    "\n",
    "        # Show frame\n",
    "        cv2.imshow(\"Face Recognition Attendance\", frame)\n",
    "\n",
    "        # Break loop if 'q' is pressed\n",
    "        if cv2.waitKey(1) & 0xFF == ord('q'):\n",
    "            print(\"[Exit] 'q' key pressed.\")\n",
    "            break\n",
    "\n",
    "        # Auto-exit if all students marked present\n",
    "        if AUTO_EXIT_ON_COMPLETION and not students_remaining:\n",
    "            print(\"[Info] All students have been marked present.\")\n",
    "            break\n",
    "\n",
    "# Clean up\n",
    "video_capture.release()\n",
    "cv2.destroyAllWindows()\n",
    "print(f\"[Saved] Attendance recorded in '{csv_filename}'\")\n"
   ]
  },
  {
   "cell_type": "code",
   "execution_count": null,
   "id": "b6a85670",
   "metadata": {},
   "outputs": [],
   "source": []
  },
  {
   "cell_type": "code",
   "execution_count": null,
   "id": "e593e0f9",
   "metadata": {},
   "outputs": [],
   "source": []
  },
  {
   "cell_type": "code",
   "execution_count": null,
   "id": "3654eff4-d78c-408e-b412-56a0f73e1685",
   "metadata": {},
   "outputs": [],
   "source": []
  }
 ],
 "metadata": {
  "kernelspec": {
   "display_name": "Python 3 (ipykernel)",
   "language": "python",
   "name": "python3"
  },
  "language_info": {
   "codemirror_mode": {
    "name": "ipython",
    "version": 3
   },
   "file_extension": ".py",
   "mimetype": "text/x-python",
   "name": "python",
   "nbconvert_exporter": "python",
   "pygments_lexer": "ipython3",
   "version": "3.9.13"
  }
 },
 "nbformat": 4,
 "nbformat_minor": 5
}
